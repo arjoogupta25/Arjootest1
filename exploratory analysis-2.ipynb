{
 "cells": [
  {
   "cell_type": "code",
   "execution_count": 1,
   "id": "e917fed3",
   "metadata": {},
   "outputs": [],
   "source": [
    "import pandas as pd\n",
    "import numpy as np\n",
    "import os\n",
    "from glob import glob\n",
    "import matplotlib.pyplot as plt\n",
    "import seaborn as sns\n",
    "from matplotlib.pyplot import figure"
   ]
  },
  {
   "cell_type": "code",
   "execution_count": 2,
   "id": "1391ee48",
   "metadata": {},
   "outputs": [
    {
     "data": {
      "text/plain": [
       "1952"
      ]
     },
     "execution_count": 2,
     "metadata": {},
     "output_type": "execute_result"
    }
   ],
   "source": [
    "###listing all discussion files\n",
    "f_discs = sorted(glob('Documents\\\\Discussion_data\\\\Discussion-*.csv'))\n",
    "f_discs\n",
    "len(f_discs)"
   ]
  },
  {
   "cell_type": "code",
   "execution_count": 3,
   "id": "319aa6dc",
   "metadata": {},
   "outputs": [],
   "source": [
    "d_comm = pd.concat((pd.read_csv(file).assign(filename=file)\n",
    "         for file in f_discs), ignore_index = True)"
   ]
  },
  {
   "cell_type": "code",
   "execution_count": 4,
   "id": "fd006fbc",
   "metadata": {},
   "outputs": [
    {
     "data": {
      "text/html": [
       "<div>\n",
       "<style scoped>\n",
       "    .dataframe tbody tr th:only-of-type {\n",
       "        vertical-align: middle;\n",
       "    }\n",
       "\n",
       "    .dataframe tbody tr th {\n",
       "        vertical-align: top;\n",
       "    }\n",
       "\n",
       "    .dataframe thead th {\n",
       "        text-align: right;\n",
       "    }\n",
       "</style>\n",
       "<table border=\"1\" class=\"dataframe\">\n",
       "  <thead>\n",
       "    <tr style=\"text-align: right;\">\n",
       "      <th></th>\n",
       "      <th>Parent ID</th>\n",
       "      <th>Comment ID</th>\n",
       "      <th>Timestamp</th>\n",
       "      <th>Title</th>\n",
       "      <th>Text</th>\n",
       "      <th>Author ID</th>\n",
       "      <th>Score</th>\n",
       "      <th>Category</th>\n",
       "      <th>filename</th>\n",
       "    </tr>\n",
       "  </thead>\n",
       "  <tbody>\n",
       "    <tr>\n",
       "      <th>0</th>\n",
       "      <td>NaN</td>\n",
       "      <td>67718</td>\n",
       "      <td>May 04, 2018 10:40AM</td>\n",
       "      <td>Can We Live Without Concrete?</td>\n",
       "      <td>\\n\\t\\t\\t\\n\\t\\t \\t\\n\\t\\t\\t\\tA combination of ce...</td>\n",
       "      <td>msmash</td>\n",
       "      <td>NaN</td>\n",
       "      <td>NaN</td>\n",
       "      <td>Documents\\Discussion_data\\Discussion-00067718.csv</td>\n",
       "    </tr>\n",
       "    <tr>\n",
       "      <th>1</th>\n",
       "      <td>67718.0</td>\n",
       "      <td>56553764</td>\n",
       "      <td>May 04, 2018 10:46AM</td>\n",
       "      <td>Jimmy Hoffa says Yes!</td>\n",
       "      <td>Can't live with it, can't live inside it.</td>\n",
       "      <td>1488789</td>\n",
       "      <td>5.0</td>\n",
       "      <td>Funny</td>\n",
       "      <td>Documents\\Discussion_data\\Discussion-00067718.csv</td>\n",
       "    </tr>\n",
       "    <tr>\n",
       "      <th>2</th>\n",
       "      <td>56554030.0</td>\n",
       "      <td>56557952</td>\n",
       "      <td>May 05, 2018 01:37AM</td>\n",
       "      <td>Re: Lucy says No!</td>\n",
       "      <td>The Roman Empire spoke Latin, and australopit...</td>\n",
       "      <td>4603733</td>\n",
       "      <td>2.0</td>\n",
       "      <td>NaN</td>\n",
       "      <td>Documents\\Discussion_data\\Discussion-00067718.csv</td>\n",
       "    </tr>\n",
       "    <tr>\n",
       "      <th>3</th>\n",
       "      <td>56554452.0</td>\n",
       "      <td>56560658</td>\n",
       "      <td>May 05, 2018 06:02PM</td>\n",
       "      <td>Re:Jimmy Hoffa embedded in Trump tower basement</td>\n",
       "      <td>He fell to pieces... in an auto scrapyard.htt...</td>\n",
       "      <td>864834</td>\n",
       "      <td>1.0</td>\n",
       "      <td>NaN</td>\n",
       "      <td>Documents\\Discussion_data\\Discussion-00067718.csv</td>\n",
       "    </tr>\n",
       "    <tr>\n",
       "      <th>4</th>\n",
       "      <td>56553764.0</td>\n",
       "      <td>56555786</td>\n",
       "      <td>May 04, 2018 03:54PM</td>\n",
       "      <td>Re:Jimmy Hoffa says Yes!</td>\n",
       "      <td>Can't decide which sounds worse: concrete sho...</td>\n",
       "      <td>1233630</td>\n",
       "      <td>2.0</td>\n",
       "      <td>NaN</td>\n",
       "      <td>Documents\\Discussion_data\\Discussion-00067718.csv</td>\n",
       "    </tr>\n",
       "    <tr>\n",
       "      <th>...</th>\n",
       "      <td>...</td>\n",
       "      <td>...</td>\n",
       "      <td>...</td>\n",
       "      <td>...</td>\n",
       "      <td>...</td>\n",
       "      <td>...</td>\n",
       "      <td>...</td>\n",
       "      <td>...</td>\n",
       "      <td>...</td>\n",
       "    </tr>\n",
       "    <tr>\n",
       "      <th>509763</th>\n",
       "      <td>48988783.0</td>\n",
       "      <td>48996211</td>\n",
       "      <td>February 06, 2015 04:04AM</td>\n",
       "      <td>Re:Say what you will about the south.</td>\n",
       "      <td>It's true that a lot of anti-vax sentiment is...</td>\n",
       "      <td>807394</td>\n",
       "      <td>2.0</td>\n",
       "      <td>NaN</td>\n",
       "      <td>Documents\\Discussion_data\\Discussion-9999029.csv</td>\n",
       "    </tr>\n",
       "    <tr>\n",
       "      <th>509764</th>\n",
       "      <td>9999029.0</td>\n",
       "      <td>48989487</td>\n",
       "      <td>February 05, 2015 12:17PM</td>\n",
       "      <td>Arm Bans for Un-Vaccinated.</td>\n",
       "      <td>I think people who don't have vaccinations sh...</td>\n",
       "      <td>658721</td>\n",
       "      <td>1.0</td>\n",
       "      <td>NaN</td>\n",
       "      <td>Documents\\Discussion_data\\Discussion-9999029.csv</td>\n",
       "    </tr>\n",
       "    <tr>\n",
       "      <th>509765</th>\n",
       "      <td>9999029.0</td>\n",
       "      <td>48990889</td>\n",
       "      <td>February 05, 2015 02:18PM</td>\n",
       "      <td>A solution to the problem</td>\n",
       "      <td>People who refuse to vaccinate (either themse...</td>\n",
       "      <td>574360</td>\n",
       "      <td>1.0</td>\n",
       "      <td>NaN</td>\n",
       "      <td>Documents\\Discussion_data\\Discussion-9999029.csv</td>\n",
       "    </tr>\n",
       "    <tr>\n",
       "      <th>509766</th>\n",
       "      <td>9999029.0</td>\n",
       "      <td>48992651</td>\n",
       "      <td>February 05, 2015 04:58PM</td>\n",
       "      <td>Way Back</td>\n",
       "      <td>In 1951 and 52 I had compulsory vacin...</td>\n",
       "      <td>3430529</td>\n",
       "      <td>2.0</td>\n",
       "      <td>NaN</td>\n",
       "      <td>Documents\\Discussion_data\\Discussion-9999029.csv</td>\n",
       "    </tr>\n",
       "    <tr>\n",
       "      <th>509767</th>\n",
       "      <td>9999029.0</td>\n",
       "      <td>49019267</td>\n",
       "      <td>February 09, 2015 02:21PM</td>\n",
       "      <td>Duh, the me fix that for you.</td>\n",
       "      <td>\"We have been a victim of our success, and pe...</td>\n",
       "      <td>1712856</td>\n",
       "      <td>1.0</td>\n",
       "      <td>NaN</td>\n",
       "      <td>Documents\\Discussion_data\\Discussion-9999029.csv</td>\n",
       "    </tr>\n",
       "  </tbody>\n",
       "</table>\n",
       "<p>509768 rows × 9 columns</p>\n",
       "</div>"
      ],
      "text/plain": [
       "         Parent ID  Comment ID                  Timestamp  \\\n",
       "0              NaN       67718       May 04, 2018 10:40AM   \n",
       "1          67718.0    56553764       May 04, 2018 10:46AM   \n",
       "2       56554030.0    56557952       May 05, 2018 01:37AM   \n",
       "3       56554452.0    56560658       May 05, 2018 06:02PM   \n",
       "4       56553764.0    56555786       May 04, 2018 03:54PM   \n",
       "...            ...         ...                        ...   \n",
       "509763  48988783.0    48996211  February 06, 2015 04:04AM   \n",
       "509764   9999029.0    48989487  February 05, 2015 12:17PM   \n",
       "509765   9999029.0    48990889  February 05, 2015 02:18PM   \n",
       "509766   9999029.0    48992651  February 05, 2015 04:58PM   \n",
       "509767   9999029.0    49019267  February 09, 2015 02:21PM   \n",
       "\n",
       "                                                  Title  \\\n",
       "0                         Can We Live Without Concrete?   \n",
       "1                                 Jimmy Hoffa says Yes!   \n",
       "2                                     Re: Lucy says No!   \n",
       "3       Re:Jimmy Hoffa embedded in Trump tower basement   \n",
       "4                              Re:Jimmy Hoffa says Yes!   \n",
       "...                                                 ...   \n",
       "509763            Re:Say what you will about the south.   \n",
       "509764                      Arm Bans for Un-Vaccinated.   \n",
       "509765                        A solution to the problem   \n",
       "509766                                         Way Back   \n",
       "509767                    Duh, the me fix that for you.   \n",
       "\n",
       "                                                     Text  Author ID  Score  \\\n",
       "0       \\n\\t\\t\\t\\n\\t\\t \\t\\n\\t\\t\\t\\tA combination of ce...     msmash    NaN   \n",
       "1              Can't live with it, can't live inside it.    1488789     5.0   \n",
       "2        The Roman Empire spoke Latin, and australopit...   4603733     2.0   \n",
       "3        He fell to pieces... in an auto scrapyard.htt...    864834     1.0   \n",
       "4        Can't decide which sounds worse: concrete sho...   1233630     2.0   \n",
       "...                                                   ...        ...    ...   \n",
       "509763   It's true that a lot of anti-vax sentiment is...    807394     2.0   \n",
       "509764   I think people who don't have vaccinations sh...    658721     1.0   \n",
       "509765   People who refuse to vaccinate (either themse...    574360     1.0   \n",
       "509766           In 1951 and 52 I had compulsory vacin...   3430529     2.0   \n",
       "509767   \"We have been a victim of our success, and pe...   1712856     1.0   \n",
       "\n",
       "       Category                                           filename  \n",
       "0           NaN  Documents\\Discussion_data\\Discussion-00067718.csv  \n",
       "1         Funny  Documents\\Discussion_data\\Discussion-00067718.csv  \n",
       "2           NaN  Documents\\Discussion_data\\Discussion-00067718.csv  \n",
       "3           NaN  Documents\\Discussion_data\\Discussion-00067718.csv  \n",
       "4           NaN  Documents\\Discussion_data\\Discussion-00067718.csv  \n",
       "...         ...                                                ...  \n",
       "509763      NaN   Documents\\Discussion_data\\Discussion-9999029.csv  \n",
       "509764      NaN   Documents\\Discussion_data\\Discussion-9999029.csv  \n",
       "509765      NaN   Documents\\Discussion_data\\Discussion-9999029.csv  \n",
       "509766      NaN   Documents\\Discussion_data\\Discussion-9999029.csv  \n",
       "509767      NaN   Documents\\Discussion_data\\Discussion-9999029.csv  \n",
       "\n",
       "[509768 rows x 9 columns]"
      ]
     },
     "execution_count": 4,
     "metadata": {},
     "output_type": "execute_result"
    }
   ],
   "source": [
    "d_comm"
   ]
  },
  {
   "cell_type": "code",
   "execution_count": 5,
   "id": "8ddb0e05",
   "metadata": {},
   "outputs": [
    {
     "data": {
      "text/html": [
       "<div>\n",
       "<style scoped>\n",
       "    .dataframe tbody tr th:only-of-type {\n",
       "        vertical-align: middle;\n",
       "    }\n",
       "\n",
       "    .dataframe tbody tr th {\n",
       "        vertical-align: top;\n",
       "    }\n",
       "\n",
       "    .dataframe thead th {\n",
       "        text-align: right;\n",
       "    }\n",
       "</style>\n",
       "<table border=\"1\" class=\"dataframe\">\n",
       "  <thead>\n",
       "    <tr style=\"text-align: right;\">\n",
       "      <th></th>\n",
       "      <th>Parent ID</th>\n",
       "      <th>Comment ID</th>\n",
       "      <th>Timestamp</th>\n",
       "      <th>Title</th>\n",
       "      <th>Text</th>\n",
       "      <th>Author ID</th>\n",
       "      <th>Score</th>\n",
       "      <th>Category</th>\n",
       "      <th>filename</th>\n",
       "    </tr>\n",
       "  </thead>\n",
       "  <tbody>\n",
       "    <tr>\n",
       "      <th>0</th>\n",
       "      <td>NaN</td>\n",
       "      <td>67718</td>\n",
       "      <td>May 04, 2018 10:40AM</td>\n",
       "      <td>Can We Live Without Concrete?</td>\n",
       "      <td>\\n\\t\\t\\t\\n\\t\\t \\t\\n\\t\\t\\t\\tA combination of ce...</td>\n",
       "      <td>msmash</td>\n",
       "      <td>NaN</td>\n",
       "      <td>NaN</td>\n",
       "      <td>Documents\\Discussion_data\\Discussion-00067718.csv</td>\n",
       "    </tr>\n",
       "    <tr>\n",
       "      <th>1</th>\n",
       "      <td>67718.0</td>\n",
       "      <td>56553764</td>\n",
       "      <td>May 04, 2018 10:46AM</td>\n",
       "      <td>Jimmy Hoffa says Yes!</td>\n",
       "      <td>Can't live with it, can't live inside it.</td>\n",
       "      <td>1488789</td>\n",
       "      <td>5.0</td>\n",
       "      <td>Funny</td>\n",
       "      <td>Documents\\Discussion_data\\Discussion-00067718.csv</td>\n",
       "    </tr>\n",
       "    <tr>\n",
       "      <th>2</th>\n",
       "      <td>56554030.0</td>\n",
       "      <td>56557952</td>\n",
       "      <td>May 05, 2018 01:37AM</td>\n",
       "      <td>Re: Lucy says No!</td>\n",
       "      <td>The Roman Empire spoke Latin, and australopit...</td>\n",
       "      <td>4603733</td>\n",
       "      <td>2.0</td>\n",
       "      <td>NaN</td>\n",
       "      <td>Documents\\Discussion_data\\Discussion-00067718.csv</td>\n",
       "    </tr>\n",
       "    <tr>\n",
       "      <th>3</th>\n",
       "      <td>56554452.0</td>\n",
       "      <td>56560658</td>\n",
       "      <td>May 05, 2018 06:02PM</td>\n",
       "      <td>Re:Jimmy Hoffa embedded in Trump tower basement</td>\n",
       "      <td>He fell to pieces... in an auto scrapyard.htt...</td>\n",
       "      <td>864834</td>\n",
       "      <td>1.0</td>\n",
       "      <td>NaN</td>\n",
       "      <td>Documents\\Discussion_data\\Discussion-00067718.csv</td>\n",
       "    </tr>\n",
       "    <tr>\n",
       "      <th>4</th>\n",
       "      <td>56553764.0</td>\n",
       "      <td>56555786</td>\n",
       "      <td>May 04, 2018 03:54PM</td>\n",
       "      <td>Re:Jimmy Hoffa says Yes!</td>\n",
       "      <td>Can't decide which sounds worse: concrete sho...</td>\n",
       "      <td>1233630</td>\n",
       "      <td>2.0</td>\n",
       "      <td>NaN</td>\n",
       "      <td>Documents\\Discussion_data\\Discussion-00067718.csv</td>\n",
       "    </tr>\n",
       "  </tbody>\n",
       "</table>\n",
       "</div>"
      ],
      "text/plain": [
       "    Parent ID  Comment ID             Timestamp  \\\n",
       "0         NaN       67718  May 04, 2018 10:40AM   \n",
       "1     67718.0    56553764  May 04, 2018 10:46AM   \n",
       "2  56554030.0    56557952  May 05, 2018 01:37AM   \n",
       "3  56554452.0    56560658  May 05, 2018 06:02PM   \n",
       "4  56553764.0    56555786  May 04, 2018 03:54PM   \n",
       "\n",
       "                                             Title  \\\n",
       "0                    Can We Live Without Concrete?   \n",
       "1                            Jimmy Hoffa says Yes!   \n",
       "2                                Re: Lucy says No!   \n",
       "3  Re:Jimmy Hoffa embedded in Trump tower basement   \n",
       "4                         Re:Jimmy Hoffa says Yes!   \n",
       "\n",
       "                                                Text  Author ID  Score  \\\n",
       "0  \\n\\t\\t\\t\\n\\t\\t \\t\\n\\t\\t\\t\\tA combination of ce...     msmash    NaN   \n",
       "1         Can't live with it, can't live inside it.    1488789     5.0   \n",
       "2   The Roman Empire spoke Latin, and australopit...   4603733     2.0   \n",
       "3   He fell to pieces... in an auto scrapyard.htt...    864834     1.0   \n",
       "4   Can't decide which sounds worse: concrete sho...   1233630     2.0   \n",
       "\n",
       "  Category                                           filename  \n",
       "0      NaN  Documents\\Discussion_data\\Discussion-00067718.csv  \n",
       "1    Funny  Documents\\Discussion_data\\Discussion-00067718.csv  \n",
       "2      NaN  Documents\\Discussion_data\\Discussion-00067718.csv  \n",
       "3      NaN  Documents\\Discussion_data\\Discussion-00067718.csv  \n",
       "4      NaN  Documents\\Discussion_data\\Discussion-00067718.csv  "
      ]
     },
     "execution_count": 5,
     "metadata": {},
     "output_type": "execute_result"
    }
   ],
   "source": [
    "d_comm.head()"
   ]
  },
  {
   "cell_type": "code",
   "execution_count": 6,
   "id": "e553246e",
   "metadata": {},
   "outputs": [
    {
     "name": "stdout",
     "output_type": "stream",
     "text": [
      "<class 'pandas.core.frame.DataFrame'>\n",
      "RangeIndex: 509768 entries, 0 to 509767\n",
      "Data columns (total 9 columns):\n",
      " #   Column      Non-Null Count   Dtype  \n",
      "---  ------      --------------   -----  \n",
      " 0   Parent ID   507816 non-null  float64\n",
      " 1   Comment ID  509768 non-null  int64  \n",
      " 2   Timestamp   509768 non-null  object \n",
      " 3   Title       509765 non-null  object \n",
      " 4   Text        509768 non-null  object \n",
      " 5   Author ID   509529 non-null  object \n",
      " 6   Score       507816 non-null  float64\n",
      " 7   Category    70346 non-null   object \n",
      " 8   filename    509768 non-null  object \n",
      "dtypes: float64(2), int64(1), object(6)\n",
      "memory usage: 35.0+ MB\n"
     ]
    }
   ],
   "source": [
    "d_comm.info()"
   ]
  },
  {
   "cell_type": "code",
   "execution_count": 7,
   "id": "b2d399ee",
   "metadata": {},
   "outputs": [],
   "source": [
    "## Converting float type columns into int\n",
    "d_comm['Parent ID'] = d_comm['Parent ID'].astype(float).astype('Int64')\n",
    "d_comm['Score'] = d_comm['Score'].astype(float).astype('Int64')"
   ]
  },
  {
   "cell_type": "code",
   "execution_count": 8,
   "id": "86a65c36",
   "metadata": {},
   "outputs": [
    {
     "name": "stdout",
     "output_type": "stream",
     "text": [
      "<class 'pandas.core.frame.DataFrame'>\n",
      "RangeIndex: 509768 entries, 0 to 509767\n",
      "Data columns (total 9 columns):\n",
      " #   Column      Non-Null Count   Dtype \n",
      "---  ------      --------------   ----- \n",
      " 0   Parent ID   507816 non-null  Int64 \n",
      " 1   Comment ID  509768 non-null  int64 \n",
      " 2   Timestamp   509768 non-null  object\n",
      " 3   Title       509765 non-null  object\n",
      " 4   Text        509768 non-null  object\n",
      " 5   Author ID   509529 non-null  object\n",
      " 6   Score       507816 non-null  Int64 \n",
      " 7   Category    70346 non-null   object\n",
      " 8   filename    509768 non-null  object\n",
      "dtypes: Int64(2), int64(1), object(6)\n",
      "memory usage: 36.0+ MB\n"
     ]
    }
   ],
   "source": [
    "d_comm.info()"
   ]
  },
  {
   "cell_type": "code",
   "execution_count": 9,
   "id": "19ddc294",
   "metadata": {},
   "outputs": [
    {
     "data": {
      "text/html": [
       "<div>\n",
       "<style scoped>\n",
       "    .dataframe tbody tr th:only-of-type {\n",
       "        vertical-align: middle;\n",
       "    }\n",
       "\n",
       "    .dataframe tbody tr th {\n",
       "        vertical-align: top;\n",
       "    }\n",
       "\n",
       "    .dataframe thead th {\n",
       "        text-align: right;\n",
       "    }\n",
       "</style>\n",
       "<table border=\"1\" class=\"dataframe\">\n",
       "  <thead>\n",
       "    <tr style=\"text-align: right;\">\n",
       "      <th></th>\n",
       "      <th>Parent ID</th>\n",
       "      <th>Comment ID</th>\n",
       "      <th>Timestamp</th>\n",
       "      <th>Title</th>\n",
       "      <th>Text</th>\n",
       "      <th>Author ID</th>\n",
       "      <th>Score</th>\n",
       "      <th>Category</th>\n",
       "      <th>filename</th>\n",
       "    </tr>\n",
       "  </thead>\n",
       "  <tbody>\n",
       "    <tr>\n",
       "      <th>0</th>\n",
       "      <td>&lt;NA&gt;</td>\n",
       "      <td>67718</td>\n",
       "      <td>May 04, 2018 10:40AM</td>\n",
       "      <td>Can We Live Without Concrete?</td>\n",
       "      <td>\\n\\t\\t\\t\\n\\t\\t \\t\\n\\t\\t\\t\\tA combination of ce...</td>\n",
       "      <td>msmash</td>\n",
       "      <td>&lt;NA&gt;</td>\n",
       "      <td>NaN</td>\n",
       "      <td>Documents\\Discussion_data\\Discussion-00067718.csv</td>\n",
       "    </tr>\n",
       "    <tr>\n",
       "      <th>1</th>\n",
       "      <td>67718</td>\n",
       "      <td>56553764</td>\n",
       "      <td>May 04, 2018 10:46AM</td>\n",
       "      <td>Jimmy Hoffa says Yes!</td>\n",
       "      <td>Can't live with it, can't live inside it.</td>\n",
       "      <td>1488789</td>\n",
       "      <td>5</td>\n",
       "      <td>Funny</td>\n",
       "      <td>Documents\\Discussion_data\\Discussion-00067718.csv</td>\n",
       "    </tr>\n",
       "    <tr>\n",
       "      <th>2</th>\n",
       "      <td>56554030</td>\n",
       "      <td>56557952</td>\n",
       "      <td>May 05, 2018 01:37AM</td>\n",
       "      <td>Re: Lucy says No!</td>\n",
       "      <td>The Roman Empire spoke Latin, and australopit...</td>\n",
       "      <td>4603733</td>\n",
       "      <td>2</td>\n",
       "      <td>NaN</td>\n",
       "      <td>Documents\\Discussion_data\\Discussion-00067718.csv</td>\n",
       "    </tr>\n",
       "    <tr>\n",
       "      <th>3</th>\n",
       "      <td>56554452</td>\n",
       "      <td>56560658</td>\n",
       "      <td>May 05, 2018 06:02PM</td>\n",
       "      <td>Re:Jimmy Hoffa embedded in Trump tower basement</td>\n",
       "      <td>He fell to pieces... in an auto scrapyard.htt...</td>\n",
       "      <td>864834</td>\n",
       "      <td>1</td>\n",
       "      <td>NaN</td>\n",
       "      <td>Documents\\Discussion_data\\Discussion-00067718.csv</td>\n",
       "    </tr>\n",
       "    <tr>\n",
       "      <th>4</th>\n",
       "      <td>56553764</td>\n",
       "      <td>56555786</td>\n",
       "      <td>May 04, 2018 03:54PM</td>\n",
       "      <td>Re:Jimmy Hoffa says Yes!</td>\n",
       "      <td>Can't decide which sounds worse: concrete sho...</td>\n",
       "      <td>1233630</td>\n",
       "      <td>2</td>\n",
       "      <td>NaN</td>\n",
       "      <td>Documents\\Discussion_data\\Discussion-00067718.csv</td>\n",
       "    </tr>\n",
       "  </tbody>\n",
       "</table>\n",
       "</div>"
      ],
      "text/plain": [
       "   Parent ID  Comment ID             Timestamp  \\\n",
       "0       <NA>       67718  May 04, 2018 10:40AM   \n",
       "1      67718    56553764  May 04, 2018 10:46AM   \n",
       "2   56554030    56557952  May 05, 2018 01:37AM   \n",
       "3   56554452    56560658  May 05, 2018 06:02PM   \n",
       "4   56553764    56555786  May 04, 2018 03:54PM   \n",
       "\n",
       "                                             Title  \\\n",
       "0                    Can We Live Without Concrete?   \n",
       "1                            Jimmy Hoffa says Yes!   \n",
       "2                                Re: Lucy says No!   \n",
       "3  Re:Jimmy Hoffa embedded in Trump tower basement   \n",
       "4                         Re:Jimmy Hoffa says Yes!   \n",
       "\n",
       "                                                Text  Author ID  Score  \\\n",
       "0  \\n\\t\\t\\t\\n\\t\\t \\t\\n\\t\\t\\t\\tA combination of ce...     msmash   <NA>   \n",
       "1         Can't live with it, can't live inside it.    1488789       5   \n",
       "2   The Roman Empire spoke Latin, and australopit...   4603733       2   \n",
       "3   He fell to pieces... in an auto scrapyard.htt...    864834       1   \n",
       "4   Can't decide which sounds worse: concrete sho...   1233630       2   \n",
       "\n",
       "  Category                                           filename  \n",
       "0      NaN  Documents\\Discussion_data\\Discussion-00067718.csv  \n",
       "1    Funny  Documents\\Discussion_data\\Discussion-00067718.csv  \n",
       "2      NaN  Documents\\Discussion_data\\Discussion-00067718.csv  \n",
       "3      NaN  Documents\\Discussion_data\\Discussion-00067718.csv  \n",
       "4      NaN  Documents\\Discussion_data\\Discussion-00067718.csv  "
      ]
     },
     "execution_count": 9,
     "metadata": {},
     "output_type": "execute_result"
    }
   ],
   "source": [
    "d_comm.head()"
   ]
  },
  {
   "cell_type": "code",
   "execution_count": 10,
   "id": "a6113a0d",
   "metadata": {},
   "outputs": [
    {
     "name": "stdout",
     "output_type": "stream",
     "text": [
      " Average number of comments : 261.1516393442623\n",
      " Minimum number of comments : 101\n",
      " Maximum number of comments : 864\n"
     ]
    }
   ],
   "source": [
    "### Conversation-level analysis\n",
    "dfc = d_comm.pivot_table(index = ['filename'], aggfunc ='size')\n",
    "print(' Average number of comments :', dfc.mean())\n",
    "print(' Minimum number of comments :', dfc.min())\n",
    "print(' Maximum number of comments :', dfc.max())"
   ]
  },
  {
   "cell_type": "code",
   "execution_count": 11,
   "id": "feeba9a8",
   "metadata": {},
   "outputs": [
    {
     "data": {
      "text/plain": [
       "Parent ID      0.382919\n",
       "Comment ID     0.000000\n",
       "Timestamp      0.000000\n",
       "Title          0.000589\n",
       "Text           0.000000\n",
       "Author ID      0.046884\n",
       "Score          0.382919\n",
       "Category      86.200389\n",
       "filename       0.000000\n",
       "dtype: float64"
      ]
     },
     "execution_count": 11,
     "metadata": {},
     "output_type": "execute_result"
    }
   ],
   "source": [
    "## percentage of null values in each column\n",
    "(d_comm.apply(pd.isnull).mean())*100"
   ]
  },
  {
   "cell_type": "code",
   "execution_count": 12,
   "id": "589c21f8",
   "metadata": {},
   "outputs": [
    {
     "name": "stdout",
     "output_type": "stream",
     "text": [
      " Average number of comments with no category in a discussion : 225.1137295081967\n",
      " Minimum number of comments with no category in a discussion : 70\n",
      " Maximum number of comments with no category in a discussion : 809\n"
     ]
    }
   ],
   "source": [
    "### Checking null values when grouped by each discussion\n",
    "dfl = d_comm[d_comm['Category'].isnull()]\n",
    "dfl1 = dfl.pivot_table(index = ['filename'], aggfunc ='size')\n",
    "print(' Average number of comments with no category in a discussion :', dfl1.mean())\n",
    "print(' Minimum number of comments with no category in a discussion :', dfl1.min())\n",
    "print(' Maximum number of comments with no category in a discussion :', dfl1.max())"
   ]
  },
  {
   "cell_type": "code",
   "execution_count": 13,
   "id": "eb053c86",
   "metadata": {},
   "outputs": [],
   "source": [
    "## Deleting not required filename column from dataframe\n",
    "del(d_comm['filename'])"
   ]
  },
  {
   "cell_type": "code",
   "execution_count": 14,
   "id": "5c948d78",
   "metadata": {},
   "outputs": [
    {
     "data": {
      "text/html": [
       "<div>\n",
       "<style scoped>\n",
       "    .dataframe tbody tr th:only-of-type {\n",
       "        vertical-align: middle;\n",
       "    }\n",
       "\n",
       "    .dataframe tbody tr th {\n",
       "        vertical-align: top;\n",
       "    }\n",
       "\n",
       "    .dataframe thead th {\n",
       "        text-align: right;\n",
       "    }\n",
       "</style>\n",
       "<table border=\"1\" class=\"dataframe\">\n",
       "  <thead>\n",
       "    <tr style=\"text-align: right;\">\n",
       "      <th></th>\n",
       "      <th>Parent ID</th>\n",
       "      <th>Comment ID</th>\n",
       "      <th>Timestamp</th>\n",
       "      <th>Title</th>\n",
       "      <th>Text</th>\n",
       "      <th>Author ID</th>\n",
       "      <th>Score</th>\n",
       "      <th>Category</th>\n",
       "    </tr>\n",
       "  </thead>\n",
       "  <tbody>\n",
       "    <tr>\n",
       "      <th>0</th>\n",
       "      <td>&lt;NA&gt;</td>\n",
       "      <td>67718</td>\n",
       "      <td>May 04, 2018 10:40AM</td>\n",
       "      <td>Can We Live Without Concrete?</td>\n",
       "      <td>\\n\\t\\t\\t\\n\\t\\t \\t\\n\\t\\t\\t\\tA combination of ce...</td>\n",
       "      <td>msmash</td>\n",
       "      <td>&lt;NA&gt;</td>\n",
       "      <td>NaN</td>\n",
       "    </tr>\n",
       "    <tr>\n",
       "      <th>1</th>\n",
       "      <td>67718</td>\n",
       "      <td>56553764</td>\n",
       "      <td>May 04, 2018 10:46AM</td>\n",
       "      <td>Jimmy Hoffa says Yes!</td>\n",
       "      <td>Can't live with it, can't live inside it.</td>\n",
       "      <td>1488789</td>\n",
       "      <td>5</td>\n",
       "      <td>Funny</td>\n",
       "    </tr>\n",
       "    <tr>\n",
       "      <th>2</th>\n",
       "      <td>56554030</td>\n",
       "      <td>56557952</td>\n",
       "      <td>May 05, 2018 01:37AM</td>\n",
       "      <td>Re: Lucy says No!</td>\n",
       "      <td>The Roman Empire spoke Latin, and australopit...</td>\n",
       "      <td>4603733</td>\n",
       "      <td>2</td>\n",
       "      <td>NaN</td>\n",
       "    </tr>\n",
       "    <tr>\n",
       "      <th>3</th>\n",
       "      <td>56554452</td>\n",
       "      <td>56560658</td>\n",
       "      <td>May 05, 2018 06:02PM</td>\n",
       "      <td>Re:Jimmy Hoffa embedded in Trump tower basement</td>\n",
       "      <td>He fell to pieces... in an auto scrapyard.htt...</td>\n",
       "      <td>864834</td>\n",
       "      <td>1</td>\n",
       "      <td>NaN</td>\n",
       "    </tr>\n",
       "    <tr>\n",
       "      <th>4</th>\n",
       "      <td>56553764</td>\n",
       "      <td>56555786</td>\n",
       "      <td>May 04, 2018 03:54PM</td>\n",
       "      <td>Re:Jimmy Hoffa says Yes!</td>\n",
       "      <td>Can't decide which sounds worse: concrete sho...</td>\n",
       "      <td>1233630</td>\n",
       "      <td>2</td>\n",
       "      <td>NaN</td>\n",
       "    </tr>\n",
       "  </tbody>\n",
       "</table>\n",
       "</div>"
      ],
      "text/plain": [
       "   Parent ID  Comment ID             Timestamp  \\\n",
       "0       <NA>       67718  May 04, 2018 10:40AM   \n",
       "1      67718    56553764  May 04, 2018 10:46AM   \n",
       "2   56554030    56557952  May 05, 2018 01:37AM   \n",
       "3   56554452    56560658  May 05, 2018 06:02PM   \n",
       "4   56553764    56555786  May 04, 2018 03:54PM   \n",
       "\n",
       "                                             Title  \\\n",
       "0                    Can We Live Without Concrete?   \n",
       "1                            Jimmy Hoffa says Yes!   \n",
       "2                                Re: Lucy says No!   \n",
       "3  Re:Jimmy Hoffa embedded in Trump tower basement   \n",
       "4                         Re:Jimmy Hoffa says Yes!   \n",
       "\n",
       "                                                Text  Author ID  Score  \\\n",
       "0  \\n\\t\\t\\t\\n\\t\\t \\t\\n\\t\\t\\t\\tA combination of ce...     msmash   <NA>   \n",
       "1         Can't live with it, can't live inside it.    1488789       5   \n",
       "2   The Roman Empire spoke Latin, and australopit...   4603733       2   \n",
       "3   He fell to pieces... in an auto scrapyard.htt...    864834       1   \n",
       "4   Can't decide which sounds worse: concrete sho...   1233630       2   \n",
       "\n",
       "  Category  \n",
       "0      NaN  \n",
       "1    Funny  \n",
       "2      NaN  \n",
       "3      NaN  \n",
       "4      NaN  "
      ]
     },
     "execution_count": 14,
     "metadata": {},
     "output_type": "execute_result"
    }
   ],
   "source": [
    "d_comm.head()"
   ]
  },
  {
   "cell_type": "code",
   "execution_count": 15,
   "id": "75c453b6",
   "metadata": {},
   "outputs": [
    {
     "name": "stdout",
     "output_type": "stream",
     "text": [
      "Percentage of comments not assigned with categories : 86.20038919665416\n",
      "Percentage of comments assigned with categories : 13.799610803345843\n"
     ]
    }
   ],
   "source": [
    "### calculating % of comments with and without categories\n",
    "percent_missing = d_comm['Category'].isnull().sum() * 100 / len(d_comm['Category'])\n",
    "print(\"Percentage of comments not assigned with categories :\", percent_missing)\n",
    "print(\"Percentage of comments assigned with categories :\", 100-percent_missing)"
   ]
  },
  {
   "cell_type": "code",
   "execution_count": null,
   "id": "8e53c1fd",
   "metadata": {},
   "outputs": [],
   "source": []
  },
  {
   "cell_type": "code",
   "execution_count": 16,
   "id": "fb092230",
   "metadata": {},
   "outputs": [
    {
     "data": {
      "text/plain": [
       "Text(0, 0.5, 'Counts of Comments')"
      ]
     },
     "execution_count": 16,
     "metadata": {},
     "output_type": "execute_result"
    },
    {
     "data": {
      "image/png": "[encoded data removed]",
      "text/plain": [
       "<Figure size 720x720 with 1 Axes>"
      ]
     },
     "metadata": {
      "needs_background": "light"
     },
     "output_type": "display_data"
    }
   ],
   "source": [
    "### Entity representation wrt the count\n",
    "ax = d_comm[\"Category\"].value_counts().plot(kind=\"bar\", figsize=(10,10), x='Category', title='Comments distribution wrt categories')\n",
    "ax.set_xlabel(\"Categories of Comments\")\n",
    "ax.set_ylabel(\"Counts of Comments\")"
   ]
  },
  {
   "cell_type": "markdown",
   "id": "9fdca326",
   "metadata": {},
   "source": [
    "Data Looks imbalanced with around 50% of the comments are categorised as insightful out of 8 categories where redundant and offtopic category do have negligiable comments."
   ]
  },
  {
   "cell_type": "code",
   "execution_count": 17,
   "id": "ade0394e",
   "metadata": {},
   "outputs": [
    {
     "name": "stdout",
     "output_type": "stream",
     "text": [
      "Total comments without any catgeory = 439422\n"
     ]
    }
   ],
   "source": [
    "### count of comments with no category.\n",
    "nan_cat = d_comm['Category'].isna().sum()\n",
    "print('Total comments without any catgeory =', nan_cat)"
   ]
  },
  {
   "cell_type": "code",
   "execution_count": 18,
   "id": "2c2cc45a",
   "metadata": {},
   "outputs": [],
   "source": [
    "d_comm['Timestamp'] = d_comm['Timestamp'].str.replace('Mday ', '')"
   ]
  },
  {
   "cell_type": "code",
   "execution_count": 19,
   "id": "e6a5e392",
   "metadata": {},
   "outputs": [],
   "source": [
    "d_comm['Timestamp'] = pd.to_datetime(d_comm['Timestamp'], format='%B %d, %Y %H:%M%p')"
   ]
  },
  {
   "cell_type": "code",
   "execution_count": 20,
   "id": "c2001a44",
   "metadata": {},
   "outputs": [
    {
     "data": {
      "text/html": [
       "<div>\n",
       "<style scoped>\n",
       "    .dataframe tbody tr th:only-of-type {\n",
       "        vertical-align: middle;\n",
       "    }\n",
       "\n",
       "    .dataframe tbody tr th {\n",
       "        vertical-align: top;\n",
       "    }\n",
       "\n",
       "    .dataframe thead th {\n",
       "        text-align: right;\n",
       "    }\n",
       "</style>\n",
       "<table border=\"1\" class=\"dataframe\">\n",
       "  <thead>\n",
       "    <tr style=\"text-align: right;\">\n",
       "      <th></th>\n",
       "      <th>Parent ID</th>\n",
       "      <th>Comment ID</th>\n",
       "      <th>Timestamp</th>\n",
       "      <th>Title</th>\n",
       "      <th>Text</th>\n",
       "      <th>Author ID</th>\n",
       "      <th>Score</th>\n",
       "      <th>Category</th>\n",
       "    </tr>\n",
       "  </thead>\n",
       "  <tbody>\n",
       "    <tr>\n",
       "      <th>0</th>\n",
       "      <td>&lt;NA&gt;</td>\n",
       "      <td>67718</td>\n",
       "      <td>2018-05-04 10:40:00</td>\n",
       "      <td>Can We Live Without Concrete?</td>\n",
       "      <td>\\n\\t\\t\\t\\n\\t\\t \\t\\n\\t\\t\\t\\tA combination of ce...</td>\n",
       "      <td>msmash</td>\n",
       "      <td>&lt;NA&gt;</td>\n",
       "      <td>NaN</td>\n",
       "    </tr>\n",
       "    <tr>\n",
       "      <th>1</th>\n",
       "      <td>67718</td>\n",
       "      <td>56553764</td>\n",
       "      <td>2018-05-04 10:46:00</td>\n",
       "      <td>Jimmy Hoffa says Yes!</td>\n",
       "      <td>Can't live with it, can't live inside it.</td>\n",
       "      <td>1488789</td>\n",
       "      <td>5</td>\n",
       "      <td>Funny</td>\n",
       "    </tr>\n",
       "    <tr>\n",
       "      <th>2</th>\n",
       "      <td>56554030</td>\n",
       "      <td>56557952</td>\n",
       "      <td>2018-05-05 01:37:00</td>\n",
       "      <td>Re: Lucy says No!</td>\n",
       "      <td>The Roman Empire spoke Latin, and australopit...</td>\n",
       "      <td>4603733</td>\n",
       "      <td>2</td>\n",
       "      <td>NaN</td>\n",
       "    </tr>\n",
       "    <tr>\n",
       "      <th>3</th>\n",
       "      <td>56554452</td>\n",
       "      <td>56560658</td>\n",
       "      <td>2018-05-05 06:02:00</td>\n",
       "      <td>Re:Jimmy Hoffa embedded in Trump tower basement</td>\n",
       "      <td>He fell to pieces... in an auto scrapyard.htt...</td>\n",
       "      <td>864834</td>\n",
       "      <td>1</td>\n",
       "      <td>NaN</td>\n",
       "    </tr>\n",
       "    <tr>\n",
       "      <th>4</th>\n",
       "      <td>56553764</td>\n",
       "      <td>56555786</td>\n",
       "      <td>2018-05-04 03:54:00</td>\n",
       "      <td>Re:Jimmy Hoffa says Yes!</td>\n",
       "      <td>Can't decide which sounds worse: concrete sho...</td>\n",
       "      <td>1233630</td>\n",
       "      <td>2</td>\n",
       "      <td>NaN</td>\n",
       "    </tr>\n",
       "  </tbody>\n",
       "</table>\n",
       "</div>"
      ],
      "text/plain": [
       "   Parent ID  Comment ID           Timestamp  \\\n",
       "0       <NA>       67718 2018-05-04 10:40:00   \n",
       "1      67718    56553764 2018-05-04 10:46:00   \n",
       "2   56554030    56557952 2018-05-05 01:37:00   \n",
       "3   56554452    56560658 2018-05-05 06:02:00   \n",
       "4   56553764    56555786 2018-05-04 03:54:00   \n",
       "\n",
       "                                             Title  \\\n",
       "0                    Can We Live Without Concrete?   \n",
       "1                            Jimmy Hoffa says Yes!   \n",
       "2                                Re: Lucy says No!   \n",
       "3  Re:Jimmy Hoffa embedded in Trump tower basement   \n",
       "4                         Re:Jimmy Hoffa says Yes!   \n",
       "\n",
       "                                                Text  Author ID  Score  \\\n",
       "0  \\n\\t\\t\\t\\n\\t\\t \\t\\n\\t\\t\\t\\tA combination of ce...     msmash   <NA>   \n",
       "1         Can't live with it, can't live inside it.    1488789       5   \n",
       "2   The Roman Empire spoke Latin, and australopit...   4603733       2   \n",
       "3   He fell to pieces... in an auto scrapyard.htt...    864834       1   \n",
       "4   Can't decide which sounds worse: concrete sho...   1233630       2   \n",
       "\n",
       "  Category  \n",
       "0      NaN  \n",
       "1    Funny  \n",
       "2      NaN  \n",
       "3      NaN  \n",
       "4      NaN  "
      ]
     },
     "execution_count": 20,
     "metadata": {},
     "output_type": "execute_result"
    }
   ],
   "source": [
    "d_comm.head()"
   ]
  },
  {
   "cell_type": "code",
   "execution_count": 21,
   "id": "baab3389",
   "metadata": {},
   "outputs": [
    {
     "name": "stdout",
     "output_type": "stream",
     "text": [
      "<class 'pandas.core.frame.DataFrame'>\n",
      "RangeIndex: 509768 entries, 0 to 509767\n",
      "Data columns (total 8 columns):\n",
      " #   Column      Non-Null Count   Dtype         \n",
      "---  ------      --------------   -----         \n",
      " 0   Parent ID   507816 non-null  Int64         \n",
      " 1   Comment ID  509768 non-null  int64         \n",
      " 2   Timestamp   509768 non-null  datetime64[ns]\n",
      " 3   Title       509765 non-null  object        \n",
      " 4   Text        509768 non-null  object        \n",
      " 5   Author ID   509529 non-null  object        \n",
      " 6   Score       507816 non-null  Int64         \n",
      " 7   Category    70346 non-null   object        \n",
      "dtypes: Int64(2), datetime64[ns](1), int64(1), object(4)\n",
      "memory usage: 32.1+ MB\n"
     ]
    }
   ],
   "source": [
    "d_comm.info()"
   ]
  },
  {
   "cell_type": "code",
   "execution_count": 22,
   "id": "e9c618c0",
   "metadata": {},
   "outputs": [],
   "source": [
    "d_comm['Weekday'] = d_comm['Timestamp'].dt.day_name()"
   ]
  },
  {
   "cell_type": "code",
   "execution_count": 23,
   "id": "546eb8d3",
   "metadata": {},
   "outputs": [
    {
     "data": {
      "text/html": [
       "<div>\n",
       "<style scoped>\n",
       "    .dataframe tbody tr th:only-of-type {\n",
       "        vertical-align: middle;\n",
       "    }\n",
       "\n",
       "    .dataframe tbody tr th {\n",
       "        vertical-align: top;\n",
       "    }\n",
       "\n",
       "    .dataframe thead th {\n",
       "        text-align: right;\n",
       "    }\n",
       "</style>\n",
       "<table border=\"1\" class=\"dataframe\">\n",
       "  <thead>\n",
       "    <tr style=\"text-align: right;\">\n",
       "      <th></th>\n",
       "      <th>Parent ID</th>\n",
       "      <th>Comment ID</th>\n",
       "      <th>Timestamp</th>\n",
       "      <th>Title</th>\n",
       "      <th>Text</th>\n",
       "      <th>Author ID</th>\n",
       "      <th>Score</th>\n",
       "      <th>Category</th>\n",
       "      <th>Weekday</th>\n",
       "    </tr>\n",
       "  </thead>\n",
       "  <tbody>\n",
       "    <tr>\n",
       "      <th>0</th>\n",
       "      <td>&lt;NA&gt;</td>\n",
       "      <td>67718</td>\n",
       "      <td>2018-05-04 10:40:00</td>\n",
       "      <td>Can We Live Without Concrete?</td>\n",
       "      <td>\\n\\t\\t\\t\\n\\t\\t \\t\\n\\t\\t\\t\\tA combination of ce...</td>\n",
       "      <td>msmash</td>\n",
       "      <td>&lt;NA&gt;</td>\n",
       "      <td>NaN</td>\n",
       "      <td>Friday</td>\n",
       "    </tr>\n",
       "    <tr>\n",
       "      <th>1</th>\n",
       "      <td>67718</td>\n",
       "      <td>56553764</td>\n",
       "      <td>2018-05-04 10:46:00</td>\n",
       "      <td>Jimmy Hoffa says Yes!</td>\n",
       "      <td>Can't live with it, can't live inside it.</td>\n",
       "      <td>1488789</td>\n",
       "      <td>5</td>\n",
       "      <td>Funny</td>\n",
       "      <td>Friday</td>\n",
       "    </tr>\n",
       "    <tr>\n",
       "      <th>2</th>\n",
       "      <td>56554030</td>\n",
       "      <td>56557952</td>\n",
       "      <td>2018-05-05 01:37:00</td>\n",
       "      <td>Re: Lucy says No!</td>\n",
       "      <td>The Roman Empire spoke Latin, and australopit...</td>\n",
       "      <td>4603733</td>\n",
       "      <td>2</td>\n",
       "      <td>NaN</td>\n",
       "      <td>Saturday</td>\n",
       "    </tr>\n",
       "    <tr>\n",
       "      <th>3</th>\n",
       "      <td>56554452</td>\n",
       "      <td>56560658</td>\n",
       "      <td>2018-05-05 06:02:00</td>\n",
       "      <td>Re:Jimmy Hoffa embedded in Trump tower basement</td>\n",
       "      <td>He fell to pieces... in an auto scrapyard.htt...</td>\n",
       "      <td>864834</td>\n",
       "      <td>1</td>\n",
       "      <td>NaN</td>\n",
       "      <td>Saturday</td>\n",
       "    </tr>\n",
       "    <tr>\n",
       "      <th>4</th>\n",
       "      <td>56553764</td>\n",
       "      <td>56555786</td>\n",
       "      <td>2018-05-04 03:54:00</td>\n",
       "      <td>Re:Jimmy Hoffa says Yes!</td>\n",
       "      <td>Can't decide which sounds worse: concrete sho...</td>\n",
       "      <td>1233630</td>\n",
       "      <td>2</td>\n",
       "      <td>NaN</td>\n",
       "      <td>Friday</td>\n",
       "    </tr>\n",
       "  </tbody>\n",
       "</table>\n",
       "</div>"
      ],
      "text/plain": [
       "   Parent ID  Comment ID           Timestamp  \\\n",
       "0       <NA>       67718 2018-05-04 10:40:00   \n",
       "1      67718    56553764 2018-05-04 10:46:00   \n",
       "2   56554030    56557952 2018-05-05 01:37:00   \n",
       "3   56554452    56560658 2018-05-05 06:02:00   \n",
       "4   56553764    56555786 2018-05-04 03:54:00   \n",
       "\n",
       "                                             Title  \\\n",
       "0                    Can We Live Without Concrete?   \n",
       "1                            Jimmy Hoffa says Yes!   \n",
       "2                                Re: Lucy says No!   \n",
       "3  Re:Jimmy Hoffa embedded in Trump tower basement   \n",
       "4                         Re:Jimmy Hoffa says Yes!   \n",
       "\n",
       "                                                Text  Author ID  Score  \\\n",
       "0  \\n\\t\\t\\t\\n\\t\\t \\t\\n\\t\\t\\t\\tA combination of ce...     msmash   <NA>   \n",
       "1         Can't live with it, can't live inside it.    1488789       5   \n",
       "2   The Roman Empire spoke Latin, and australopit...   4603733       2   \n",
       "3   He fell to pieces... in an auto scrapyard.htt...    864834       1   \n",
       "4   Can't decide which sounds worse: concrete sho...   1233630       2   \n",
       "\n",
       "  Category   Weekday  \n",
       "0      NaN    Friday  \n",
       "1    Funny    Friday  \n",
       "2      NaN  Saturday  \n",
       "3      NaN  Saturday  \n",
       "4      NaN    Friday  "
      ]
     },
     "execution_count": 23,
     "metadata": {},
     "output_type": "execute_result"
    }
   ],
   "source": [
    "d_comm.head()"
   ]
  },
  {
   "cell_type": "code",
   "execution_count": 24,
   "id": "aff63953",
   "metadata": {},
   "outputs": [
    {
     "data": {
      "text/plain": [
       "<seaborn.axisgrid.FacetGrid at 0x251c318b9d0>"
      ]
     },
     "execution_count": 24,
     "metadata": {},
     "output_type": "execute_result"
    },
    {
     "data": {
      "image/png": "[encoded data removed]",
      "text/plain": [
       "<Figure size 720x360 with 1 Axes>"
      ]
     },
     "metadata": {
      "needs_background": "light"
     },
     "output_type": "display_data"
    }
   ],
   "source": [
    "gfg = sns.displot(d_comm['Weekday'], shrink= .6, fill=True, binwidth=3,aspect=2)\n",
    "gfg.set(xlabel =\"Weekday\", ylabel = \"Count of Comments\", title ='Dsitribution of comments as per the day of the week')"
   ]
  },
  {
   "cell_type": "code",
   "execution_count": 25,
   "id": "a8ee7d15",
   "metadata": {},
   "outputs": [
    {
     "data": {
      "text/plain": [
       "Author ID\n",
       " 100005        17\n",
       " 1000150        1\n",
       " 1000167        5\n",
       " 10002888       1\n",
       " 1000364        1\n",
       "             ... \n",
       "samzenpus     155\n",
       "timothy       160\n",
       "tm            140\n",
       "twg            11\n",
       "yaelk           4\n",
       "Length: 20403, dtype: int64"
      ]
     },
     "execution_count": 25,
     "metadata": {},
     "output_type": "execute_result"
    }
   ],
   "source": [
    "dfa = d_comm.pivot_table(index = ['Author ID'], aggfunc ='size')\n",
    "dfa"
   ]
  },
  {
   "cell_type": "code",
   "execution_count": 26,
   "id": "1bd0131c",
   "metadata": {},
   "outputs": [
    {
     "data": {
      "text/plain": [
       "Author ID\n",
       "BeauHD                         640\n",
       "CiH                              1\n",
       "David Trout                      1\n",
       "EditorDavid                    304\n",
       "PopeRatzo                        1\n",
       "Professor                        1\n",
       "R                               81\n",
       "RET                              1\n",
       "Roblimo                          2\n",
       "Soulskill                      192\n",
       "TM                               9\n",
       "Unknown                          7\n",
       "WC                               1\n",
       "big-pete                         1\n",
       "by Anonymous Cowar           22942\n",
       "c                                1\n",
       "dirty gnu hippy ( 764183         1\n",
       "i pi                            12\n",
       "msmash                         488\n",
       "retired                          3\n",
       "samzenpus                      155\n",
       "timothy                        160\n",
       "tm                             140\n",
       "twg                             11\n",
       "yaelk                            4\n",
       "dtype: int64"
      ]
     },
     "execution_count": 26,
     "metadata": {},
     "output_type": "execute_result"
    }
   ],
   "source": [
    "dft = dfa.tail(25)\n",
    "dft"
   ]
  },
  {
   "cell_type": "code",
   "execution_count": 27,
   "id": "eabe04ac",
   "metadata": {},
   "outputs": [],
   "source": [
    "dft1 = dft.drop('by Anonymous Cowar')"
   ]
  },
  {
   "cell_type": "code",
   "execution_count": 28,
   "id": "7d9bc774",
   "metadata": {},
   "outputs": [
    {
     "data": {
      "text/plain": [
       "Text(0, 0.5, 'No. of topics initated')"
      ]
     },
     "execution_count": 28,
     "metadata": {},
     "output_type": "execute_result"
    },
    {
     "data": {
      "image/png": "[encoded data removed]",
      "text/plain": [
       "<Figure size 720x720 with 1 Axes>"
      ]
     },
     "metadata": {
      "needs_background": "light"
     },
     "output_type": "display_data"
    }
   ],
   "source": [
    "aff = dft1.plot(kind='bar',figsize=(10,10), title='Topics initated by Authors')\n",
    "aff.set_xlabel(\"Topic Author\")\n",
    "aff.set_ylabel(\"No. of topics initated\")"
   ]
  },
  {
   "cell_type": "code",
   "execution_count": 29,
   "id": "1328df98",
   "metadata": {},
   "outputs": [
    {
     "name": "stdout",
     "output_type": "stream",
     "text": [
      " Average number of comments/ posts by author is 24.97323922952507\n",
      " Median of comments/ posts by author is 2.0\n",
      " Mode of comments/ posts by author is 0    1\n",
      "dtype: int64\n"
     ]
    }
   ],
   "source": [
    "print(' Average number of comments/ posts by author is', dfa.mean())\n",
    "print(' Median of comments/ posts by author is', dfa.median())\n",
    "print(' Mode of comments/ posts by author is', dfa.mode())"
   ]
  },
  {
   "cell_type": "code",
   "execution_count": 30,
   "id": "551afb99",
   "metadata": {},
   "outputs": [
    {
     "name": "stdout",
     "output_type": "stream",
     "text": [
      " Min number of comments/ posts by author is 1\n",
      " Max number of comments/ posts by author is 22942\n"
     ]
    }
   ],
   "source": [
    "print(' Min number of comments/ posts by author is', dfa.min())\n",
    "print(' Max number of comments/ posts by author is', dfa.max())"
   ]
  },
  {
   "cell_type": "code",
   "execution_count": 31,
   "id": "fa1a08ea",
   "metadata": {},
   "outputs": [
    {
     "name": "stdout",
     "output_type": "stream",
     "text": [
      "Requirement already satisfied: networkx in c:\\users\\arjoo\\anaconda3\\lib\\site-packages (2.5)\n",
      "Requirement already satisfied: decorator>=4.3.0 in c:\\users\\arjoo\\anaconda3\\lib\\site-packages (from networkx) (5.0.6)\n",
      "Note: you may need to restart the kernel to use updated packages.\n"
     ]
    }
   ],
   "source": [
    "pip install networkx"
   ]
  },
  {
   "cell_type": "code",
   "execution_count": 32,
   "id": "7bf0526b",
   "metadata": {},
   "outputs": [],
   "source": [
    "import networkx as nx\n",
    "G = nx.Graph()"
   ]
  },
  {
   "cell_type": "code",
   "execution_count": 33,
   "id": "4dfc021b",
   "metadata": {},
   "outputs": [],
   "source": [
    "dfn = d_comm.dropna()"
   ]
  },
  {
   "cell_type": "code",
   "execution_count": 34,
   "id": "620fb8eb",
   "metadata": {},
   "outputs": [
    {
     "data": {
      "text/plain": [
       "70316"
      ]
     },
     "execution_count": 34,
     "metadata": {},
     "output_type": "execute_result"
    }
   ],
   "source": [
    "len(dfn)"
   ]
  },
  {
   "cell_type": "code",
   "execution_count": 35,
   "id": "742c186d",
   "metadata": {},
   "outputs": [
    {
     "data": {
      "text/html": [
       "<div>\n",
       "<style scoped>\n",
       "    .dataframe tbody tr th:only-of-type {\n",
       "        vertical-align: middle;\n",
       "    }\n",
       "\n",
       "    .dataframe tbody tr th {\n",
       "        vertical-align: top;\n",
       "    }\n",
       "\n",
       "    .dataframe thead th {\n",
       "        text-align: right;\n",
       "    }\n",
       "</style>\n",
       "<table border=\"1\" class=\"dataframe\">\n",
       "  <thead>\n",
       "    <tr style=\"text-align: right;\">\n",
       "      <th></th>\n",
       "      <th>Parent ID</th>\n",
       "      <th>Comment ID</th>\n",
       "      <th>Timestamp</th>\n",
       "      <th>Title</th>\n",
       "      <th>Text</th>\n",
       "      <th>Author ID</th>\n",
       "      <th>Score</th>\n",
       "      <th>Category</th>\n",
       "      <th>Weekday</th>\n",
       "    </tr>\n",
       "  </thead>\n",
       "  <tbody>\n",
       "    <tr>\n",
       "      <th>1</th>\n",
       "      <td>67718</td>\n",
       "      <td>56553764</td>\n",
       "      <td>2018-05-04 10:46:00</td>\n",
       "      <td>Jimmy Hoffa says Yes!</td>\n",
       "      <td>Can't live with it, can't live inside it.</td>\n",
       "      <td>1488789</td>\n",
       "      <td>5</td>\n",
       "      <td>Funny</td>\n",
       "      <td>Friday</td>\n",
       "    </tr>\n",
       "    <tr>\n",
       "      <th>9</th>\n",
       "      <td>67718</td>\n",
       "      <td>56553822</td>\n",
       "      <td>2018-05-04 10:59:00</td>\n",
       "      <td>Yes, there is an alternative</td>\n",
       "      <td>Hemp is a good alternative to concrete. In ad...</td>\n",
       "      <td>697113</td>\n",
       "      <td>5</td>\n",
       "      <td>Funny</td>\n",
       "      <td>Friday</td>\n",
       "    </tr>\n",
       "    <tr>\n",
       "      <th>10</th>\n",
       "      <td>56553822</td>\n",
       "      <td>56553934</td>\n",
       "      <td>2018-05-04 11:15:00</td>\n",
       "      <td>Re:Yes, there is an alternative</td>\n",
       "      <td>HEMP? I got to ask, do you have a pretensione...</td>\n",
       "      <td>2522392</td>\n",
       "      <td>5</td>\n",
       "      <td>Insightful</td>\n",
       "      <td>Friday</td>\n",
       "    </tr>\n",
       "    <tr>\n",
       "      <th>11</th>\n",
       "      <td>56553934</td>\n",
       "      <td>56554078</td>\n",
       "      <td>2018-05-04 11:33:00</td>\n",
       "      <td>Re:Yes, there is an alternative</td>\n",
       "      <td>Turns out there is a product called 'Hempcret...</td>\n",
       "      <td>4808835</td>\n",
       "      <td>5</td>\n",
       "      <td>Informative</td>\n",
       "      <td>Friday</td>\n",
       "    </tr>\n",
       "    <tr>\n",
       "      <th>12</th>\n",
       "      <td>56554078</td>\n",
       "      <td>56554136</td>\n",
       "      <td>2018-05-04 11:40:00</td>\n",
       "      <td>Re:Yes, there is an alternative</td>\n",
       "      <td>Hempcrete will float in a bucket of waterWith...</td>\n",
       "      <td>1198475</td>\n",
       "      <td>4</td>\n",
       "      <td>Insightful</td>\n",
       "      <td>Friday</td>\n",
       "    </tr>\n",
       "  </tbody>\n",
       "</table>\n",
       "</div>"
      ],
      "text/plain": [
       "    Parent ID  Comment ID           Timestamp  \\\n",
       "1       67718    56553764 2018-05-04 10:46:00   \n",
       "9       67718    56553822 2018-05-04 10:59:00   \n",
       "10   56553822    56553934 2018-05-04 11:15:00   \n",
       "11   56553934    56554078 2018-05-04 11:33:00   \n",
       "12   56554078    56554136 2018-05-04 11:40:00   \n",
       "\n",
       "                              Title  \\\n",
       "1             Jimmy Hoffa says Yes!   \n",
       "9      Yes, there is an alternative   \n",
       "10  Re:Yes, there is an alternative   \n",
       "11  Re:Yes, there is an alternative   \n",
       "12  Re:Yes, there is an alternative   \n",
       "\n",
       "                                                 Text  Author ID  Score  \\\n",
       "1          Can't live with it, can't live inside it.    1488789       5   \n",
       "9    Hemp is a good alternative to concrete. In ad...    697113       5   \n",
       "10   HEMP? I got to ask, do you have a pretensione...   2522392       5   \n",
       "11   Turns out there is a product called 'Hempcret...   4808835       5   \n",
       "12   Hempcrete will float in a bucket of waterWith...   1198475       4   \n",
       "\n",
       "       Category Weekday  \n",
       "1         Funny  Friday  \n",
       "9         Funny  Friday  \n",
       "10   Insightful  Friday  \n",
       "11  Informative  Friday  \n",
       "12   Insightful  Friday  "
      ]
     },
     "execution_count": 35,
     "metadata": {},
     "output_type": "execute_result"
    }
   ],
   "source": [
    "dfn.head()"
   ]
  },
  {
   "cell_type": "code",
   "execution_count": 36,
   "id": "1e5462b0",
   "metadata": {},
   "outputs": [],
   "source": [
    "dfn1 = dfn[['Score', 'Category']]"
   ]
  },
  {
   "cell_type": "code",
   "execution_count": 37,
   "id": "c0e8cb3a",
   "metadata": {},
   "outputs": [
    {
     "data": {
      "text/html": [
       "<div>\n",
       "<style scoped>\n",
       "    .dataframe tbody tr th:only-of-type {\n",
       "        vertical-align: middle;\n",
       "    }\n",
       "\n",
       "    .dataframe tbody tr th {\n",
       "        vertical-align: top;\n",
       "    }\n",
       "\n",
       "    .dataframe thead th {\n",
       "        text-align: right;\n",
       "    }\n",
       "</style>\n",
       "<table border=\"1\" class=\"dataframe\">\n",
       "  <thead>\n",
       "    <tr style=\"text-align: right;\">\n",
       "      <th></th>\n",
       "      <th>Score</th>\n",
       "      <th>Category</th>\n",
       "    </tr>\n",
       "  </thead>\n",
       "  <tbody>\n",
       "    <tr>\n",
       "      <th>1</th>\n",
       "      <td>5</td>\n",
       "      <td>Funny</td>\n",
       "    </tr>\n",
       "    <tr>\n",
       "      <th>9</th>\n",
       "      <td>5</td>\n",
       "      <td>Funny</td>\n",
       "    </tr>\n",
       "    <tr>\n",
       "      <th>10</th>\n",
       "      <td>5</td>\n",
       "      <td>Insightful</td>\n",
       "    </tr>\n",
       "    <tr>\n",
       "      <th>11</th>\n",
       "      <td>5</td>\n",
       "      <td>Informative</td>\n",
       "    </tr>\n",
       "    <tr>\n",
       "      <th>12</th>\n",
       "      <td>4</td>\n",
       "      <td>Insightful</td>\n",
       "    </tr>\n",
       "    <tr>\n",
       "      <th>...</th>\n",
       "      <td>...</td>\n",
       "      <td>...</td>\n",
       "    </tr>\n",
       "    <tr>\n",
       "      <th>509730</th>\n",
       "      <td>5</td>\n",
       "      <td>Informative</td>\n",
       "    </tr>\n",
       "    <tr>\n",
       "      <th>509738</th>\n",
       "      <td>5</td>\n",
       "      <td>Insightful</td>\n",
       "    </tr>\n",
       "    <tr>\n",
       "      <th>509745</th>\n",
       "      <td>2</td>\n",
       "      <td>Insightful</td>\n",
       "    </tr>\n",
       "    <tr>\n",
       "      <th>509747</th>\n",
       "      <td>2</td>\n",
       "      <td>Interesting</td>\n",
       "    </tr>\n",
       "    <tr>\n",
       "      <th>509753</th>\n",
       "      <td>5</td>\n",
       "      <td>Informative</td>\n",
       "    </tr>\n",
       "  </tbody>\n",
       "</table>\n",
       "<p>70316 rows × 2 columns</p>\n",
       "</div>"
      ],
      "text/plain": [
       "        Score     Category\n",
       "1           5        Funny\n",
       "9           5        Funny\n",
       "10          5   Insightful\n",
       "11          5  Informative\n",
       "12          4   Insightful\n",
       "...       ...          ...\n",
       "509730      5  Informative\n",
       "509738      5   Insightful\n",
       "509745      2   Insightful\n",
       "509747      2  Interesting\n",
       "509753      5  Informative\n",
       "\n",
       "[70316 rows x 2 columns]"
      ]
     },
     "execution_count": 37,
     "metadata": {},
     "output_type": "execute_result"
    }
   ],
   "source": [
    "dfn1"
   ]
  },
  {
   "cell_type": "code",
   "execution_count": 38,
   "id": "a390291f",
   "metadata": {},
   "outputs": [],
   "source": [
    "G = nx.from_pandas_edgelist(dfn1, 'Score', 'Category')"
   ]
  },
  {
   "cell_type": "code",
   "execution_count": 39,
   "id": "94693af6",
   "metadata": {},
   "outputs": [
    {
     "data": {
      "image/png": "[encoded data removed]",
      "text/plain": [
       "<Figure size 576x432 with 1 Axes>"
      ]
     },
     "metadata": {},
     "output_type": "display_data"
    }
   ],
   "source": [
    "figure(figsize=(8, 6))\n",
    "nx.draw_shell(G, with_labels=True)"
   ]
  },
  {
   "cell_type": "code",
   "execution_count": 40,
   "id": "12d70cf0",
   "metadata": {},
   "outputs": [
    {
     "data": {
      "text/html": [
       "<div>\n",
       "<style scoped>\n",
       "    .dataframe tbody tr th:only-of-type {\n",
       "        vertical-align: middle;\n",
       "    }\n",
       "\n",
       "    .dataframe tbody tr th {\n",
       "        vertical-align: top;\n",
       "    }\n",
       "\n",
       "    .dataframe thead th {\n",
       "        text-align: right;\n",
       "    }\n",
       "</style>\n",
       "<table border=\"1\" class=\"dataframe\">\n",
       "  <thead>\n",
       "    <tr style=\"text-align: right;\">\n",
       "      <th></th>\n",
       "      <th>Parent ID</th>\n",
       "      <th>Comment ID</th>\n",
       "      <th>Timestamp</th>\n",
       "      <th>Title</th>\n",
       "      <th>Text</th>\n",
       "      <th>Author ID</th>\n",
       "      <th>Score</th>\n",
       "      <th>Category</th>\n",
       "      <th>Weekday</th>\n",
       "    </tr>\n",
       "  </thead>\n",
       "  <tbody>\n",
       "    <tr>\n",
       "      <th>1</th>\n",
       "      <td>67718</td>\n",
       "      <td>56553764</td>\n",
       "      <td>2018-05-04 10:46:00</td>\n",
       "      <td>Jimmy Hoffa says Yes!</td>\n",
       "      <td>Can't live with it, can't live inside it.</td>\n",
       "      <td>1488789</td>\n",
       "      <td>5</td>\n",
       "      <td>Funny</td>\n",
       "      <td>Friday</td>\n",
       "    </tr>\n",
       "    <tr>\n",
       "      <th>9</th>\n",
       "      <td>67718</td>\n",
       "      <td>56553822</td>\n",
       "      <td>2018-05-04 10:59:00</td>\n",
       "      <td>Yes, there is an alternative</td>\n",
       "      <td>Hemp is a good alternative to concrete. In ad...</td>\n",
       "      <td>697113</td>\n",
       "      <td>5</td>\n",
       "      <td>Funny</td>\n",
       "      <td>Friday</td>\n",
       "    </tr>\n",
       "    <tr>\n",
       "      <th>10</th>\n",
       "      <td>56553822</td>\n",
       "      <td>56553934</td>\n",
       "      <td>2018-05-04 11:15:00</td>\n",
       "      <td>Re:Yes, there is an alternative</td>\n",
       "      <td>HEMP? I got to ask, do you have a pretensione...</td>\n",
       "      <td>2522392</td>\n",
       "      <td>5</td>\n",
       "      <td>Insightful</td>\n",
       "      <td>Friday</td>\n",
       "    </tr>\n",
       "    <tr>\n",
       "      <th>11</th>\n",
       "      <td>56553934</td>\n",
       "      <td>56554078</td>\n",
       "      <td>2018-05-04 11:33:00</td>\n",
       "      <td>Re:Yes, there is an alternative</td>\n",
       "      <td>Turns out there is a product called 'Hempcret...</td>\n",
       "      <td>4808835</td>\n",
       "      <td>5</td>\n",
       "      <td>Informative</td>\n",
       "      <td>Friday</td>\n",
       "    </tr>\n",
       "    <tr>\n",
       "      <th>12</th>\n",
       "      <td>56554078</td>\n",
       "      <td>56554136</td>\n",
       "      <td>2018-05-04 11:40:00</td>\n",
       "      <td>Re:Yes, there is an alternative</td>\n",
       "      <td>Hempcrete will float in a bucket of waterWith...</td>\n",
       "      <td>1198475</td>\n",
       "      <td>4</td>\n",
       "      <td>Insightful</td>\n",
       "      <td>Friday</td>\n",
       "    </tr>\n",
       "    <tr>\n",
       "      <th>...</th>\n",
       "      <td>...</td>\n",
       "      <td>...</td>\n",
       "      <td>...</td>\n",
       "      <td>...</td>\n",
       "      <td>...</td>\n",
       "      <td>...</td>\n",
       "      <td>...</td>\n",
       "      <td>...</td>\n",
       "      <td>...</td>\n",
       "    </tr>\n",
       "    <tr>\n",
       "      <th>509730</th>\n",
       "      <td>48987949</td>\n",
       "      <td>48988153</td>\n",
       "      <td>2015-02-05 10:09:00</td>\n",
       "      <td>Re:so...</td>\n",
       "      <td>Hep B can be contracted in many ways.  The he...</td>\n",
       "      <td>267028</td>\n",
       "      <td>5</td>\n",
       "      <td>Informative</td>\n",
       "      <td>Thursday</td>\n",
       "    </tr>\n",
       "    <tr>\n",
       "      <th>509738</th>\n",
       "      <td>48988033</td>\n",
       "      <td>48988165</td>\n",
       "      <td>2015-02-05 10:11:00</td>\n",
       "      <td>Re:Not 5 vaccines, 7-11</td>\n",
       "      <td>By \"moderate anti-vaxxer\", you mean \"I've got...</td>\n",
       "      <td>3897945</td>\n",
       "      <td>5</td>\n",
       "      <td>Insightful</td>\n",
       "      <td>Thursday</td>\n",
       "    </tr>\n",
       "    <tr>\n",
       "      <th>509745</th>\n",
       "      <td>48988033</td>\n",
       "      <td>48988229</td>\n",
       "      <td>2015-02-05 10:18:00</td>\n",
       "      <td>Re:Not 5 vaccines, 7-11</td>\n",
       "      <td>\"I'm a moderate anti-vaxxer\"In other words, y...</td>\n",
       "      <td>by Anonymous Cowar</td>\n",
       "      <td>2</td>\n",
       "      <td>Insightful</td>\n",
       "      <td>Thursday</td>\n",
       "    </tr>\n",
       "    <tr>\n",
       "      <th>509747</th>\n",
       "      <td>48988555</td>\n",
       "      <td>48989039</td>\n",
       "      <td>2015-02-05 11:35:00</td>\n",
       "      <td>Re:Not 5 vaccines, 7-11</td>\n",
       "      <td>I can see waiting on Varicella until around a...</td>\n",
       "      <td>by Anonymous Cowar</td>\n",
       "      <td>2</td>\n",
       "      <td>Interesting</td>\n",
       "      <td>Thursday</td>\n",
       "    </tr>\n",
       "    <tr>\n",
       "      <th>509753</th>\n",
       "      <td>48987945</td>\n",
       "      <td>48988381</td>\n",
       "      <td>2015-02-05 10:37:00</td>\n",
       "      <td>Re:foreign invasion</td>\n",
       "      <td>Although we may agree on the need for less po...</td>\n",
       "      <td>258480</td>\n",
       "      <td>5</td>\n",
       "      <td>Informative</td>\n",
       "      <td>Thursday</td>\n",
       "    </tr>\n",
       "  </tbody>\n",
       "</table>\n",
       "<p>70316 rows × 9 columns</p>\n",
       "</div>"
      ],
      "text/plain": [
       "        Parent ID  Comment ID           Timestamp  \\\n",
       "1           67718    56553764 2018-05-04 10:46:00   \n",
       "9           67718    56553822 2018-05-04 10:59:00   \n",
       "10       56553822    56553934 2018-05-04 11:15:00   \n",
       "11       56553934    56554078 2018-05-04 11:33:00   \n",
       "12       56554078    56554136 2018-05-04 11:40:00   \n",
       "...           ...         ...                 ...   \n",
       "509730   48987949    48988153 2015-02-05 10:09:00   \n",
       "509738   48988033    48988165 2015-02-05 10:11:00   \n",
       "509745   48988033    48988229 2015-02-05 10:18:00   \n",
       "509747   48988555    48989039 2015-02-05 11:35:00   \n",
       "509753   48987945    48988381 2015-02-05 10:37:00   \n",
       "\n",
       "                                  Title  \\\n",
       "1                 Jimmy Hoffa says Yes!   \n",
       "9          Yes, there is an alternative   \n",
       "10      Re:Yes, there is an alternative   \n",
       "11      Re:Yes, there is an alternative   \n",
       "12      Re:Yes, there is an alternative   \n",
       "...                                 ...   \n",
       "509730                         Re:so...   \n",
       "509738          Re:Not 5 vaccines, 7-11   \n",
       "509745          Re:Not 5 vaccines, 7-11   \n",
       "509747          Re:Not 5 vaccines, 7-11   \n",
       "509753              Re:foreign invasion   \n",
       "\n",
       "                                                     Text           Author ID  \\\n",
       "1              Can't live with it, can't live inside it.             1488789    \n",
       "9        Hemp is a good alternative to concrete. In ad...             697113    \n",
       "10       HEMP? I got to ask, do you have a pretensione...            2522392    \n",
       "11       Turns out there is a product called 'Hempcret...            4808835    \n",
       "12       Hempcrete will float in a bucket of waterWith...            1198475    \n",
       "...                                                   ...                 ...   \n",
       "509730   Hep B can be contracted in many ways.  The he...             267028    \n",
       "509738   By \"moderate anti-vaxxer\", you mean \"I've got...            3897945    \n",
       "509745   \"I'm a moderate anti-vaxxer\"In other words, y...  by Anonymous Cowar   \n",
       "509747   I can see waiting on Varicella until around a...  by Anonymous Cowar   \n",
       "509753   Although we may agree on the need for less po...             258480    \n",
       "\n",
       "        Score     Category   Weekday  \n",
       "1           5        Funny    Friday  \n",
       "9           5        Funny    Friday  \n",
       "10          5   Insightful    Friday  \n",
       "11          5  Informative    Friday  \n",
       "12          4   Insightful    Friday  \n",
       "...       ...          ...       ...  \n",
       "509730      5  Informative  Thursday  \n",
       "509738      5   Insightful  Thursday  \n",
       "509745      2   Insightful  Thursday  \n",
       "509747      2  Interesting  Thursday  \n",
       "509753      5  Informative  Thursday  \n",
       "\n",
       "[70316 rows x 9 columns]"
      ]
     },
     "execution_count": 40,
     "metadata": {},
     "output_type": "execute_result"
    }
   ],
   "source": [
    "dfn"
   ]
  },
  {
   "cell_type": "code",
   "execution_count": 41,
   "id": "8a3aa095",
   "metadata": {},
   "outputs": [
    {
     "data": {
      "text/plain": [
       "70316"
      ]
     },
     "execution_count": 41,
     "metadata": {},
     "output_type": "execute_result"
    }
   ],
   "source": [
    "len(dfn)"
   ]
  },
  {
   "cell_type": "code",
   "execution_count": 42,
   "id": "8de49ae4",
   "metadata": {},
   "outputs": [
    {
     "data": {
      "text/plain": [
       "Score\n",
       "0       136\n",
       "1     82637\n",
       "2    330320\n",
       "3     44361\n",
       "4     16841\n",
       "5     33521\n",
       "dtype: int64"
      ]
     },
     "execution_count": 42,
     "metadata": {},
     "output_type": "execute_result"
    }
   ],
   "source": [
    "dfs = d_comm.pivot_table(index = ['Score'], aggfunc ='size')\n",
    "dfs"
   ]
  },
  {
   "cell_type": "code",
   "execution_count": 43,
   "id": "87764031",
   "metadata": {},
   "outputs": [
    {
     "data": {
      "text/plain": [
       "Text(0, 0.5, 'Counts of Comments')"
      ]
     },
     "execution_count": 43,
     "metadata": {},
     "output_type": "execute_result"
    },
    {
     "data": {
      "image/png": "[encoded data removed]",
      "text/plain": [
       "<Figure size 720x720 with 1 Axes>"
      ]
     },
     "metadata": {
      "needs_background": "light"
     },
     "output_type": "display_data"
    }
   ],
   "source": [
    "scc =dfs.plot(kind='bar',figsize=(10,10), title = 'Distribution of comments wrt score')\n",
    "scc.set_xlabel(\"Score\")\n",
    "scc.set_ylabel(\"Counts of Comments\")"
   ]
  },
  {
   "cell_type": "code",
   "execution_count": 51,
   "id": "d87d7df0",
   "metadata": {},
   "outputs": [
    {
     "name": "stderr",
     "output_type": "stream",
     "text": [
      "<ipython-input-51-0f733a878dff>:1: SettingWithCopyWarning: \n",
      "A value is trying to be set on a copy of a slice from a DataFrame.\n",
      "Try using .loc[row_indexer,col_indexer] = value instead\n",
      "\n",
      "See the caveats in the documentation: https://pandas.pydata.org/pandas-docs/stable/user_guide/indexing.html#returning-a-view-versus-a-copy\n",
      "  dfn1[\"combined\"] = dfn1[\"Score\"].astype(str)+\" and \"+dfn1[\"Category\"]\n"
     ]
    },
    {
     "data": {
      "text/html": [
       "<div>\n",
       "<style scoped>\n",
       "    .dataframe tbody tr th:only-of-type {\n",
       "        vertical-align: middle;\n",
       "    }\n",
       "\n",
       "    .dataframe tbody tr th {\n",
       "        vertical-align: top;\n",
       "    }\n",
       "\n",
       "    .dataframe thead th {\n",
       "        text-align: right;\n",
       "    }\n",
       "</style>\n",
       "<table border=\"1\" class=\"dataframe\">\n",
       "  <thead>\n",
       "    <tr style=\"text-align: right;\">\n",
       "      <th></th>\n",
       "      <th>Score</th>\n",
       "      <th>Category</th>\n",
       "      <th>combined</th>\n",
       "    </tr>\n",
       "  </thead>\n",
       "  <tbody>\n",
       "    <tr>\n",
       "      <th>1</th>\n",
       "      <td>5</td>\n",
       "      <td>Funny</td>\n",
       "      <td>5 and Funny</td>\n",
       "    </tr>\n",
       "    <tr>\n",
       "      <th>9</th>\n",
       "      <td>5</td>\n",
       "      <td>Funny</td>\n",
       "      <td>5 and Funny</td>\n",
       "    </tr>\n",
       "    <tr>\n",
       "      <th>10</th>\n",
       "      <td>5</td>\n",
       "      <td>Insightful</td>\n",
       "      <td>5 and Insightful</td>\n",
       "    </tr>\n",
       "    <tr>\n",
       "      <th>11</th>\n",
       "      <td>5</td>\n",
       "      <td>Informative</td>\n",
       "      <td>5 and Informative</td>\n",
       "    </tr>\n",
       "    <tr>\n",
       "      <th>12</th>\n",
       "      <td>4</td>\n",
       "      <td>Insightful</td>\n",
       "      <td>4 and Insightful</td>\n",
       "    </tr>\n",
       "    <tr>\n",
       "      <th>...</th>\n",
       "      <td>...</td>\n",
       "      <td>...</td>\n",
       "      <td>...</td>\n",
       "    </tr>\n",
       "    <tr>\n",
       "      <th>509730</th>\n",
       "      <td>5</td>\n",
       "      <td>Informative</td>\n",
       "      <td>5 and Informative</td>\n",
       "    </tr>\n",
       "    <tr>\n",
       "      <th>509738</th>\n",
       "      <td>5</td>\n",
       "      <td>Insightful</td>\n",
       "      <td>5 and Insightful</td>\n",
       "    </tr>\n",
       "    <tr>\n",
       "      <th>509745</th>\n",
       "      <td>2</td>\n",
       "      <td>Insightful</td>\n",
       "      <td>2 and Insightful</td>\n",
       "    </tr>\n",
       "    <tr>\n",
       "      <th>509747</th>\n",
       "      <td>2</td>\n",
       "      <td>Interesting</td>\n",
       "      <td>2 and Interesting</td>\n",
       "    </tr>\n",
       "    <tr>\n",
       "      <th>509753</th>\n",
       "      <td>5</td>\n",
       "      <td>Informative</td>\n",
       "      <td>5 and Informative</td>\n",
       "    </tr>\n",
       "  </tbody>\n",
       "</table>\n",
       "<p>70316 rows × 3 columns</p>\n",
       "</div>"
      ],
      "text/plain": [
       "        Score     Category           combined\n",
       "1           5        Funny        5 and Funny\n",
       "9           5        Funny        5 and Funny\n",
       "10          5   Insightful   5 and Insightful\n",
       "11          5  Informative  5 and Informative\n",
       "12          4   Insightful   4 and Insightful\n",
       "...       ...          ...                ...\n",
       "509730      5  Informative  5 and Informative\n",
       "509738      5   Insightful   5 and Insightful\n",
       "509745      2   Insightful   2 and Insightful\n",
       "509747      2  Interesting  2 and Interesting\n",
       "509753      5  Informative  5 and Informative\n",
       "\n",
       "[70316 rows x 3 columns]"
      ]
     },
     "execution_count": 51,
     "metadata": {},
     "output_type": "execute_result"
    }
   ],
   "source": [
    "dfn1[\"combined\"] = dfn1[\"Score\"].astype(str)+\" and \"+dfn1[\"Category\"]\n",
    "dfn1"
   ]
  },
  {
   "cell_type": "code",
   "execution_count": 52,
   "id": "eee5aa06",
   "metadata": {},
   "outputs": [],
   "source": [
    "dfn2 = dfn1.pivot_table(index = ['combined'], aggfunc ='size')"
   ]
  },
  {
   "cell_type": "code",
   "execution_count": 53,
   "id": "085ecfc7",
   "metadata": {},
   "outputs": [
    {
     "data": {
      "text/plain": [
       "combined\n",
       "0 and Flamebait          1\n",
       "0 and Offtopic           1\n",
       "0 and Troll              3\n",
       "1 and Flamebait        400\n",
       "1 and Funny            219\n",
       "1 and Informative      389\n",
       "1 and Insightful      1299\n",
       "1 and Interesting      425\n",
       "1 and Offtopic         125\n",
       "1 and Redundant         47\n",
       "1 and Troll           1013\n",
       "2 and Flamebait        279\n",
       "2 and Funny            898\n",
       "2 and Informative     1611\n",
       "2 and Insightful      4075\n",
       "2 and Interesting     1785\n",
       "2 and Offtopic         145\n",
       "2 and Redundant         64\n",
       "2 and Troll            676\n",
       "3 and Flamebait          1\n",
       "3 and Funny            640\n",
       "3 and Informative     1356\n",
       "3 and Insightful      3582\n",
       "3 and Interesting     1395\n",
       "3 and Offtopic           4\n",
       "4 and Funny           1639\n",
       "4 and Informative     3584\n",
       "4 and Insightful      7485\n",
       "4 and Interesting     3705\n",
       "5 and Funny           4261\n",
       "5 and Informative     7025\n",
       "5 and Insightful     16179\n",
       "5 and Interesting     6005\n",
       "dtype: int64"
      ]
     },
     "execution_count": 53,
     "metadata": {},
     "output_type": "execute_result"
    }
   ],
   "source": [
    "dfn2"
   ]
  },
  {
   "cell_type": "code",
   "execution_count": 54,
   "id": "37ba79ca",
   "metadata": {},
   "outputs": [
    {
     "data": {
      "text/plain": [
       "Text(0, 0.5, 'Counts of Comments')"
      ]
     },
     "execution_count": 54,
     "metadata": {},
     "output_type": "execute_result"
    },
    {
     "data": {
      "image/png": "[encoded data removed]",
      "text/plain": [
       "<Figure size 720x720 with 1 Axes>"
      ]
     },
     "metadata": {
      "needs_background": "light"
     },
     "output_type": "display_data"
    }
   ],
   "source": [
    "scc1 =dfn2.plot(kind='bar',figsize=(10,10), title = 'numbers of comments for different relation bw score & categories')\n",
    "scc1.set_xlabel(\"Combination of Score & Categories\")\n",
    "scc1.set_ylabel(\"Counts of Comments\")"
   ]
  },
  {
   "cell_type": "code",
   "execution_count": null,
   "id": "d1f86821",
   "metadata": {},
   "outputs": [],
   "source": []
  }
 ],
 "metadata": {
  "kernelspec": {
   "display_name": "Python 3",
   "language": "python",
   "name": "python3"
  },
  "language_info": {
   "codemirror_mode": {
    "name": "ipython",
    "version": 3
   },
   "file_extension": ".py",
   "mimetype": "text/x-python",
   "name": "python",
   "nbconvert_exporter": "python",
   "pygments_lexer": "ipython3",
   "version": "3.8.8"
  }
 },
 "nbformat": 4,
 "nbformat_minor": 5
}
